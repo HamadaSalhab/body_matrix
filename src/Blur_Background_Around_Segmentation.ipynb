{
 "cells": [
  {
   "cell_type": "code",
   "execution_count": null,
   "metadata": {},
   "outputs": [],
   "source": [
    "from body_matrix import load, infer, process, draw\n",
    "\n",
    "keypoints_model, keypoints_transform = load.keypoints_model(\"cpu\")\n",
    "video, frame_counts, fps, sample_frame = load.video(\n",
    "    \"/Users/troydo42/Desktop/Raw_Vids/VID_20230109_154951~2.mp4\", \n",
    "    -90, \n",
    "    40\n",
    ")\n",
    "\n",
    "selected_box, keypoints = infer.detect_main_target(\n",
    "    sample_frame, \"cpu\", 0.8, keypoints_model, keypoints_transform\n",
    ")\n",
    "\n",
    "segment_model, segment_transform = load.segment_model(\"cpu\")\n",
    "mask, mask_image, bool_mask = infer.segment_selected_target(\n",
    "    sample_frame, \"cpu\", selected_box, \n",
    "    0.99, segment_model, segment_transform\n",
    ")"
   ]
  },
  {
   "cell_type": "code",
   "execution_count": null,
   "metadata": {},
   "outputs": [],
   "source": [
    "from body_matrix import process\n",
    "\n",
    "outside_segmentation_positions = process.outside_segmentation_area(\n",
    "    sample_image=sample_frame, \n",
    "    bool_mask=bool_mask\n",
    ")"
   ]
  },
  {
   "cell_type": "code",
   "execution_count": null,
   "metadata": {},
   "outputs": [],
   "source": [
    "outside_segmentation_positions[0]"
   ]
  },
  {
   "cell_type": "code",
   "execution_count": null,
   "metadata": {},
   "outputs": [],
   "source": [
    "import numpy as np\n",
    "sample_array = np.asarray(sample_frame)"
   ]
  },
  {
   "cell_type": "code",
   "execution_count": null,
   "metadata": {},
   "outputs": [],
   "source": [
    "sample_array[outside_segmentation_positions] + 1"
   ]
  },
  {
   "cell_type": "code",
   "execution_count": null,
   "metadata": {},
   "outputs": [],
   "source": [
    "from PIL import Image\n",
    "\n",
    "new_image = Image.fromarray(sample_array)\n",
    "new_image"
   ]
  }
 ],
 "metadata": {
  "kernelspec": {
   "display_name": "Python 3",
   "language": "python",
   "name": "python3"
  },
  "language_info": {
   "codemirror_mode": {
    "name": "ipython",
    "version": 3
   },
   "file_extension": ".py",
   "mimetype": "text/x-python",
   "name": "python",
   "nbconvert_exporter": "python",
   "pygments_lexer": "ipython3",
   "version": "3.7.1"
  }
 },
 "nbformat": 4,
 "nbformat_minor": 2
}
