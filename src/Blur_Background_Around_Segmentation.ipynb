{
 "cells": [
  {
   "cell_type": "code",
   "execution_count": 1,
   "metadata": {},
   "outputs": [
    {
     "name": "stdout",
     "output_type": "stream",
     "text": [
      "Found  9  person in the frame\n",
      "Distances:  [22.62548828125, 162.87408447265625, 509.7685966491699, 21.328018188476562, 277.08660888671875, 251.41407775878906, 150.89122009277344, 47.89398193359375, 157.73812866210938]\n",
      "Areas:  [85893.29776924103, 53805.958535805345, 11687.49616825534, 4007.4995117206126, 2025.9671002328396, 1678.8271613456309, 2405.1815660856664, 2410.0547087341547, 495.1052218005061]\n",
      "FOCUSES:  [3796.306921712792, 330.3530988985448, 22.92706189647622, 187.89835400111613, 7.311674527949184, 6.677538411179688, 15.939837749385768, 50.320616733763295, 3.1387796089623348]\n",
      "Select keypoint index 0\n",
      "Found  6  person in the frame\n",
      "[0.8962397575378418, 808.0972290039062, 65.64437103271484, 976.2938842773438]\n",
      "[483.73626708984375, 763.2023315429688, 649.5147094726562, 1281.3233642578125]\n",
      "[486.70794677734375, 763.4951782226562, 655.180419921875, 1283.17626953125]\n",
      "[483.73626708984375, 763.2023315429688, 649.5147094726562, 1281.3233642578125]\n",
      "[641.110107421875, 784.1318969726562, 771.3134155273438, 1187.8148193359375]\n",
      "[483.73626708984375, 763.2023315429688, 649.5147094726562, 1281.3233642578125]\n",
      "[174.49632263183594, 855.044921875, 322.3694763183594, 987.347412109375]\n",
      "[483.73626708984375, 763.2023315429688, 649.5147094726562, 1281.3233642578125]\n",
      "[255.19020080566406, 752.4540405273438, 282.7515563964844, 823.0276489257812]\n",
      "[483.73626708984375, 763.2023315429688, 649.5147094726562, 1281.3233642578125]\n",
      "[336.98089599609375, 860.041259765625, 485.3100280761719, 1004.2583618164062]\n",
      "[483.73626708984375, 763.2023315429688, 649.5147094726562, 1281.3233642578125]\n",
      "[548.9856567954605, 4.449965163296958, 144.2264009467164, 333.8577504880809, 378.94437142742055, 179.70642175019213]\n",
      "4.449965163296958 1\n"
     ]
    }
   ],
   "source": [
    "from body_matrix import load, infer, process, draw\n",
    "\n",
    "keypoints_model, keypoints_transform = load.keypoints_model(\"cpu\")\n",
    "video, frame_counts, fps, sample_frame = load.video(\n",
    "    \"/Users/troydo42/Desktop/Raw_Vids/VID_20230109_154951~2.mp4\", \n",
    "    -90, \n",
    "    40\n",
    ")\n",
    "\n",
    "selected_box, keypoints = infer.detect_main_target(\n",
    "    sample_frame, \"cpu\", 0.8, keypoints_model, keypoints_transform\n",
    ")\n",
    "\n",
    "segment_model, segment_transform = load.segment_model(\"cpu\")\n",
    "mask, mask_image, bool_mask = infer.segment_selected_target(\n",
    "    sample_frame, \"cpu\", selected_box, \n",
    "    0.99, segment_model, segment_transform\n",
    ")"
   ]
  },
  {
   "cell_type": "code",
   "execution_count": 2,
   "metadata": {},
   "outputs": [],
   "source": [
    "from body_matrix import process\n",
    "\n",
    "outside_segmentation_positions = process.outside_segmentation_area(\n",
    "    sample_image=sample_frame, \n",
    "    bool_mask=bool_mask\n",
    ")"
   ]
  }
 ],
 "metadata": {
  "kernelspec": {
   "display_name": "Python 3",
   "language": "python",
   "name": "python3"
  },
  "language_info": {
   "codemirror_mode": {
    "name": "ipython",
    "version": 3
   },
   "file_extension": ".py",
   "mimetype": "text/x-python",
   "name": "python",
   "nbconvert_exporter": "python",
   "pygments_lexer": "ipython3",
   "version": "3.7.1"
  }
 },
 "nbformat": 4,
 "nbformat_minor": 2
}
