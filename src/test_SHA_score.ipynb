{
 "cells": [
  {
   "cell_type": "code",
   "execution_count": 1,
   "metadata": {},
   "outputs": [
    {
     "name": "stdout",
     "output_type": "stream",
     "text": [
      "Found  3  person in the frame\n",
      "Distances:  [4.6946258544921875, 357.71270751953125, 328.79632568359375]\n",
      "Areas:  [309102.5849272795, 7238.688030660152, 4190.567056313157]\n",
      "FOCUSES:  [65841.79325632645, 20.23603824660022, 12.745176052684391]\n",
      "Select keypoint index 0\n",
      "Found  7  person in the frame\n",
      "[384.28985595703125, 757.6371459960938, 687.038330078125, 1751.9239501953125]\n",
      "[384.4972839355469, 760.8311767578125, 694.1134643554688, 1759.17236328125]\n",
      "[868.923583984375, 872.0135498046875, 930.5077514648438, 992.1439819335938]\n",
      "[384.4972839355469, 760.8311767578125, 694.1134643554688, 1759.17236328125]\n",
      "[863.081787109375, 787.0054931640625, 1087.1761474609375, 962.7617797851562]\n",
      "[384.4972839355469, 760.8311767578125, 694.1134643554688, 1759.17236328125]\n",
      "[9.776000022888184, 858.37646484375, 154.00531005859375, 933.3391723632812]\n",
      "[384.4972839355469, 760.8311767578125, 694.1134643554688, 1759.17236328125]\n",
      "[681.4767456054688, 970.3965454101562, 845.8213500976562, 1075.564453125]\n",
      "[384.4972839355469, 760.8311767578125, 694.1134643554688, 1759.17236328125]\n",
      "[0.1509367823600769, 877.244140625, 59.518184661865234, 944.3104248046875]\n",
      "[384.4972839355469, 760.8311767578125, 694.1134643554688, 1759.17236328125]\n",
      "[111.71788024902344, 867.6981811523438, 235.08590698242188, 943.8231201171875]\n",
      "[384.4972839355469, 760.8311767578125, 694.1134643554688, 1759.17236328125]\n",
      "[6.365538989785575, 487.26694569690574, 581.5996742797215, 584.6614769305074, 326.3574217339011, 617.671637897935, 509.2858997918386]\n",
      "6.365538989785575 0\n"
     ]
    }
   ],
   "source": [
    "from body_matrix import load\n",
    "from body_matrix import infer\n",
    "from body_matrix import process\n",
    "from body_matrix import score\n",
    "from body_matrix import measure\n",
    "\n",
    "video, frame_counts, fps, sample_frame = load.video(\n",
    "    \"/Users/troydo42/Desktop/Body_Matrixes/samples/sample02.mp4\", \n",
    "    -90, \n",
    "    1\n",
    ")\n",
    "\n",
    "keypoints_model, keypoints_transform = load.keypoints_model(\"cpu\")\n",
    "selected_box, keypoints = infer.detect_main_target(\n",
    "    sample_frame, \"cpu\", 0.8, keypoints_model, keypoints_transform\n",
    ")\n",
    "\n",
    "selected_kps = process.keypoints_filter(\n",
    "    [\n",
    "        'left_shoulder','right_shoulder', \n",
    "        'left_hip', 'right_hip',  \n",
    "        'left_elbow','right_elbow',\n",
    "        'left_wrist', 'right_wrist',\n",
    "        'left_ankle', 'right_ankle'], \n",
    "    keypoints\n",
    ")\n",
    "\n",
    "segment_model, segment_transform = load.segment_model(\"cpu\")\n",
    "mask, mask_image, bool_mask = infer.segment_selected_target(\n",
    "    sample_frame, \"cpu\", selected_box, 0.9, segment_model, segment_transform\n",
    ")\n",
    "\n",
    "segment_area = process.segmentation_area(\n",
    "    sample_frame, \n",
    "    bool_mask\n",
    ")\n",
    "\n",
    "ls = selected_kps['left_shoulder']\n",
    "rs = selected_kps['right_shoulder']\n",
    "lh = selected_kps['left_hip']\n",
    "rh = selected_kps['right_hip']\n",
    "\n",
    "alpha_shoulder, beta_shoulder = score.two_points_linear_constant(ls, rs)\n",
    "alpha_hip, beta_hip = score.two_points_linear_constant(lh, rh)\n",
    "\n",
    "shoulder_line_coordinates = score.find_segment_line(\n",
    "    segment_area, \n",
    "    alpha_shoulder, \n",
    "    beta_shoulder\n",
    ")\n",
    "\n",
    "hip_line_coordinates = score.find_segment_line(\n",
    "    segment_area, \n",
    "    alpha_hip, \n",
    "    beta_hip\n",
    ")"
   ]
  },
  {
   "cell_type": "code",
   "execution_count": 2,
   "metadata": {},
   "outputs": [
    {
     "name": "stdout",
     "output_type": "stream",
     "text": [
      "BACK\n"
     ]
    },
    {
     "data": {
      "text/plain": [
       "{'left_shoulder': [403, 955], 'right_shoulder': [642, 957]}"
      ]
     },
     "execution_count": 2,
     "metadata": {},
     "output_type": "execute_result"
    }
   ],
   "source": [
    "if ls[0] < rs[0]:\n",
    "    print(\"BACK\")\n",
    "    shoulder_kps = {\n",
    "        'left_shoulder': shoulder_line_coordinates[0],\n",
    "        'right_shoulder': shoulder_line_coordinates[-1]\n",
    "    }\n",
    "\n",
    "elif ls[0] > rs[0]:\n",
    "    print(\"FRONT\")\n",
    "    shoulder_kps = {\n",
    "        'left_shoulder': shoulder_line_coordinates[-1],\n",
    "        'right_shoulder': shoulder_line_coordinates[0]\n",
    "    }\n",
    "        \n",
    "        \n",
    "shoulder_kps"
   ]
  },
  {
   "cell_type": "code",
   "execution_count": 3,
   "metadata": {},
   "outputs": [
    {
     "name": "stdout",
     "output_type": "stream",
     "text": [
      "both hand high {'left_hip': [429, 1241], 'right_hip': [651, 1244]}\n"
     ]
    }
   ],
   "source": [
    "lw = selected_kps['left_wrist']\n",
    "rw = selected_kps['right_wrist']\n",
    "\n",
    "if lw[1] > lh[1]:\n",
    "    precise_rh = hip_line_coordinates[-1]\n",
    "    precise_lhX = 2 * middle_hip[0] - rh[0]\n",
    "    precise_lhY = hip_alpha * precise_lhX + hip_beta\n",
    "    precise_lh = [int(precise_lhX), int(precise_lhY)]\n",
    "    hip_kps = {\n",
    "        'left_hip': precise_lh,\n",
    "        'right_hip': precise_rh\n",
    "    }\n",
    "    print(\"low left hand\", hip_kps)\n",
    "    \n",
    "elif rw[1] > rh[1]:\n",
    "    precise_lh = hip_line_coordinates[0]\n",
    "    precise_rhX = 2 * middle_hip[0] - precise_lh[0]\n",
    "    precise_rhY = hip_alpha * precise_rhX + hip_beta\n",
    "    precise_rh = [int(precise_rhX), int(precise_rhY)] \n",
    "    \n",
    "    hip_kps = {\n",
    "        'left_hip': precise_lh,\n",
    "        'right_hip': precise_rh\n",
    "    }\n",
    "    print(\"low right hand\", hip_kps)\n",
    "    \n",
    "else:\n",
    "    hip_kps = {\n",
    "        'left_hip': hip_line_coordinates[0],\n",
    "        'right_hip': hip_line_coordinates[-1]\n",
    "    }\n",
    "    print(\"both hand high\", hip_kps)"
   ]
  },
  {
   "cell_type": "code",
   "execution_count": 5,
   "metadata": {},
   "outputs": [
    {
     "name": "stdout",
     "output_type": "stream",
     "text": [
      "both hand high {'left_hip': [429, 1241], 'right_hip': [651, 1244]}\n"
     ]
    }
   ],
   "source": [
    "hip_kps = process.find_hip_points(\n",
    "    lh, rh, lw, rw, segment_area\n",
    ")"
   ]
  },
  {
   "cell_type": "code",
   "execution_count": null,
   "metadata": {},
   "outputs": [],
   "source": [
    "updated_kps = {}\n",
    "updated_kps.update(shoulder_kps)\n",
    "updated_kps.update(hip_kps)"
   ]
  },
  {
   "cell_type": "code",
   "execution_count": null,
   "metadata": {},
   "outputs": [],
   "source": [
    "shoulder_length = measure.two_points_distance(\n",
    "    updated_kps['left_shoulder'],\n",
    "    updated_kps['right_shoulder']\n",
    ")\n",
    "\n",
    "hip_length = measure.two_points_distance(\n",
    "    updated_kps['left_hip'],\n",
    "    updated_kps['right_hip']\n",
    ")\n",
    "\n",
    "middle_shoulder = measure.find_middle_point(\n",
    "    updated_kps['left_shoulder'],\n",
    "    updated_kps['right_shoulder']\n",
    ")\n",
    "\n",
    "middle_hip = measure.find_middle_point(\n",
    "    updated_kps['left_hip'],\n",
    "    updated_kps['right_hip']\n",
    ")\n",
    "\n",
    "middle_ankle = measure.find_middle_point(\n",
    "    selected_kps['left_ankle'],\n",
    "    selected_kps['right_ankle']\n",
    ")\n",
    "\n",
    "back_length = measure.two_points_distance(\n",
    "    middle_shoulder, middle_hip\n",
    ")\n",
    "\n",
    "leg_length = measure.two_points_distance(\n",
    "    middle_hip, middle_ankle\n",
    ")\n",
    "\n",
    "score = score.SHA_score(\n",
    "    shoulder_length, \n",
    "    hip_length, \n",
    "    back_length, \n",
    "    leg_length\n",
    ")\n",
    "score"
   ]
  }
 ],
 "metadata": {
  "kernelspec": {
   "display_name": "Python 3",
   "language": "python",
   "name": "python3"
  },
  "language_info": {
   "codemirror_mode": {
    "name": "ipython",
    "version": 3
   },
   "file_extension": ".py",
   "mimetype": "text/x-python",
   "name": "python",
   "nbconvert_exporter": "python",
   "pygments_lexer": "ipython3",
   "version": "3.7.1"
  }
 },
 "nbformat": 4,
 "nbformat_minor": 2
}
