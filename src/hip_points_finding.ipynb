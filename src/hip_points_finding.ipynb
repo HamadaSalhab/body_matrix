{
 "cells": [
  {
   "cell_type": "code",
   "execution_count": 1,
   "metadata": {},
   "outputs": [
    {
     "ename": "NameError",
     "evalue": "name 'keypoints_model' is not defined",
     "output_type": "error",
     "traceback": [
      "\u001b[0;31m---------------------------------------------------------\u001b[0m",
      "\u001b[0;31mNameError\u001b[0m               Traceback (most recent call last)",
      "\u001b[0;32m<ipython-input-1-a970b2b8b979>\u001b[0m in \u001b[0;36m<module>\u001b[0;34m\u001b[0m\n\u001b[1;32m     10\u001b[0m \u001b[0;34m\u001b[0m\u001b[0m\n\u001b[1;32m     11\u001b[0m selected_box, keypoint = infer.detect_main_target(\n\u001b[0;32m---> 12\u001b[0;31m         \u001b[0msample_frame\u001b[0m\u001b[0;34m,\u001b[0m \u001b[0;34m\"cpu\"\u001b[0m\u001b[0;34m,\u001b[0m \u001b[0;36m0.8\u001b[0m\u001b[0;34m,\u001b[0m \u001b[0mkeypoints_model\u001b[0m\u001b[0;34m,\u001b[0m \u001b[0mkeypoints_transform\u001b[0m\u001b[0;34m\u001b[0m\u001b[0;34m\u001b[0m\u001b[0m\n\u001b[0m\u001b[1;32m     13\u001b[0m )\n\u001b[1;32m     14\u001b[0m \u001b[0;34m\u001b[0m\u001b[0m\n",
      "\u001b[0;31mNameError\u001b[0m: name 'keypoints_model' is not defined"
     ]
    }
   ],
   "source": [
    "from body_matrix import infer\n",
    "from body_matrix import load\n",
    "\n",
    "segment_model, segment_transform = load.segment_model(\"cpu\")\n",
    "video, frame_counts, fps, sample_frame = load.video(\n",
    "    \"/Users/troydo42/Desktop/Raw_Vids/VID_20230102_171533~2.mp4\", \n",
    "    -90, \n",
    "    1\n",
    ")\n",
    "\n",
    "selected_box, keypoint = infer.detect_main_target(\n",
    "\tsample_frame, \"cpu\", 0.8, keypoints_model, keypoints_transform\n",
    ")\n",
    "\n",
    "mask, mask_image, bool_mask = infer.segment_selected_target(\n",
    "\tsample_frame, \"cpu\", selected_box, 0.99, segment_model, segment_transform\n",
    ")"
   ]
  },
  {
   "cell_type": "code",
   "execution_count": null,
   "metadata": {},
   "outputs": [],
   "source": []
  }
 ],
 "metadata": {
  "kernelspec": {
   "display_name": "Python 3",
   "language": "python",
   "name": "python3"
  },
  "language_info": {
   "codemirror_mode": {
    "name": "ipython",
    "version": 3
   },
   "file_extension": ".py",
   "mimetype": "text/x-python",
   "name": "python",
   "nbconvert_exporter": "python",
   "pygments_lexer": "ipython3",
   "version": "3.7.1"
  }
 },
 "nbformat": 4,
 "nbformat_minor": 2
}
