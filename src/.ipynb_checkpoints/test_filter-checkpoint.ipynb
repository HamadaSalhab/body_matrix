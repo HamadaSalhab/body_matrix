{
 "cells": [
  {
   "cell_type": "code",
   "execution_count": 1,
   "metadata": {},
   "outputs": [],
   "source": [
    "from body_matrix import process"
   ]
  },
  {
   "cell_type": "code",
   "execution_count": 2,
   "metadata": {},
   "outputs": [],
   "source": [
    "coco_keypoints = [\n",
    "\t    \"nose\", \"left_eye\", \"right_eye\", \"left_ear\", \"right_ear\",\n",
    "\t    \"left_shoulder\", \"right_shoulder\", \"left_elbow\", \"right_elbow\",\n",
    "\t    \"left_wrist\", \"right_wrist\", \"left_hip\", \"right_hip\",\n",
    "\t    \"left_knee\", \"right_knee\", \"left_ankle\", \"right_ankle\",\n",
    "\t]"
   ]
  },
  {
   "cell_type": "code",
   "execution_count": 3,
   "metadata": {},
   "outputs": [
    {
     "name": "stdout",
     "output_type": "stream",
     "text": [
      "0 nose\n",
      "1 left_eye\n",
      "2 right_eye\n",
      "3 left_ear\n",
      "4 right_ear\n",
      "5 left_shoulder\n",
      "6 right_shoulder\n",
      "7 left_elbow\n",
      "8 right_elbow\n",
      "9 left_wrist\n",
      "10 right_wrist\n",
      "11 left_hip\n",
      "12 right_hip\n",
      "13 left_knee\n",
      "14 right_knee\n",
      "15 left_ankle\n",
      "16 right_ankle\n"
     ]
    }
   ],
   "source": [
    "for index, coco in enumerate(coco_keypoints):\n",
    "    print(index, coco)"
   ]
  },
  {
   "cell_type": "code",
   "execution_count": 4,
   "metadata": {},
   "outputs": [
    {
     "name": "stdout",
     "output_type": "stream",
     "text": [
      "Found  3  person in the frame\n",
      "Distances:  [4.6946258544921875, 357.71270751953125, 328.79632568359375]\n",
      "Areas:  [309102.5849272795, 7238.688030660152, 4190.567056313157]\n",
      "FOCUSES:  [65841.79325632645, 20.23603824660022, 12.745176052684391]\n",
      "Select keypoint index 0\n"
     ]
    }
   ],
   "source": [
    "from body_matrix import infer\n",
    "from body_matrix import load\n",
    "\n",
    "keypoints_model, keypoints_transform = load.keypoints_model(\"cpu\")\n",
    "video, frame_counts, fps, sample_frame = load.video(\n",
    "    \"/Users/troydo42/Desktop/Body_Matrixes/samples/sample02.mp4\", \n",
    "    -90, \n",
    "    1\n",
    ")\n",
    "\n",
    "selected_box, keypoints = infer.detect_main_target(\n",
    "    sample_frame, \"cpu\", 0.8, keypoints_model, keypoints_transform\n",
    ")"
   ]
  },
  {
   "cell_type": "code",
   "execution_count": 5,
   "metadata": {},
   "outputs": [
    {
     "name": "stdout",
     "output_type": "stream",
     "text": [
      "tensor([[[5.8971e+02, 8.6944e+02, 1.0000e+00],\n",
      "         [4.6874e+02, 8.3348e+02, 1.0000e+00],\n",
      "         [5.8251e+02, 8.4930e+02, 1.0000e+00],\n",
      "         [4.8026e+02, 8.4930e+02, 1.0000e+00],\n",
      "         [5.7243e+02, 8.5074e+02, 1.0000e+00],\n",
      "         [4.2842e+02, 9.5575e+02, 1.0000e+00],\n",
      "         [6.0987e+02, 9.5719e+02, 1.0000e+00],\n",
      "         [4.2842e+02, 1.0766e+03, 1.0000e+00],\n",
      "         [6.5019e+02, 1.0996e+03, 1.0000e+00],\n",
      "         [4.9466e+02, 1.1025e+03, 1.0000e+00],\n",
      "         [5.6235e+02, 1.1169e+03, 1.0000e+00],\n",
      "         [4.7594e+02, 1.2420e+03, 1.0000e+00],\n",
      "         [5.9403e+02, 1.2435e+03, 1.0000e+00],\n",
      "         [5.0618e+02, 1.4549e+03, 1.0000e+00],\n",
      "         [6.0699e+02, 1.4362e+03, 1.0000e+00],\n",
      "         [5.1770e+02, 1.6894e+03, 1.0000e+00],\n",
      "         [6.1563e+02, 1.6578e+03, 1.0000e+00]]], grad_fn=<UnsqueezeBackward0>)\n"
     ]
    }
   ],
   "source": [
    "print(keypoints)"
   ]
  },
  {
   "cell_type": "code",
   "execution_count": 6,
   "metadata": {},
   "outputs": [
    {
     "name": "stdout",
     "output_type": "stream",
     "text": [
      "[384.4972839355469, 760.8311767578125, 694.1134643554688, 1759.17236328125]\n"
     ]
    }
   ],
   "source": [
    "print(selected_box)"
   ]
  },
  {
   "cell_type": "code",
   "execution_count": 7,
   "metadata": {},
   "outputs": [],
   "source": [
    "selected_kps = process.keypoints_filter(['nose','left_shoulder','right_shoulder', 'left_hip', 'right_hip', 'left_ankle', 'right_ankle'], keypoints)"
   ]
  },
  {
   "cell_type": "code",
   "execution_count": 8,
   "metadata": {},
   "outputs": [
    {
     "name": "stdout",
     "output_type": "stream",
     "text": [
      "[428.4195556640625, 955.752197265625]\n"
     ]
    }
   ],
   "source": [
    "print(selected_kps['left_shoulder'])"
   ]
  },
  {
   "cell_type": "code",
   "execution_count": 9,
   "metadata": {},
   "outputs": [
    {
     "name": "stdout",
     "output_type": "stream",
     "text": [
      "nose [589.7080078125, 869.4403076171875]\n",
      "left_shoulder [428.4195556640625, 955.752197265625]\n",
      "right_shoulder [609.8690795898438, 957.1908569335938]\n",
      "left_hip [475.94207763671875, 1242.0201416015625]\n",
      "right_hip [594.0282592773438, 1243.458740234375]\n",
      "left_ankle [517.7042846679688, 1689.4034423828125]\n",
      "right_ankle [615.62939453125, 1657.755859375]\n"
     ]
    }
   ],
   "source": [
    "for key, value in selected_kps.items():\n",
    "    print(key, value)"
   ]
  },
  {
   "cell_type": "code",
   "execution_count": 10,
   "metadata": {},
   "outputs": [
    {
     "name": "stdout",
     "output_type": "stream",
     "text": [
      "Found  3  person in the frame\n",
      "[384.28985595703125, 757.6371459960938, 687.038330078125, 1751.9239501953125]\n",
      "[384.4972839355469, 760.8311767578125, 694.1134643554688, 1759.17236328125]\n",
      "[868.923583984375, 872.0135498046875, 930.5077514648438, 992.1439819335938]\n",
      "[384.4972839355469, 760.8311767578125, 694.1134643554688, 1759.17236328125]\n",
      "[863.081787109375, 787.0054931640625, 1087.1761474609375, 962.7617797851562]\n",
      "[384.4972839355469, 760.8311767578125, 694.1134643554688, 1759.17236328125]\n",
      "[6.365538989785575, 487.26694569690574, 581.5996742797215]\n",
      "6.365538989785575 0\n"
     ]
    }
   ],
   "source": [
    "segment_model, segment_transform = load.segment_model(\"cpu\")\n",
    "mask, mask_image, bool_mask = infer.segment_selected_target(\n",
    "    sample_frame, \"cpu\", selected_box, 0.99, segment_model, segment_transform\n",
    ")"
   ]
  },
  {
   "cell_type": "code",
   "execution_count": 11,
   "metadata": {},
   "outputs": [],
   "source": [
    "segment_area = process.segmentation_area(\n",
    "    sample_frame, \n",
    "    bool_mask\n",
    ")"
   ]
  },
  {
   "cell_type": "code",
   "execution_count": 13,
   "metadata": {},
   "outputs": [
    {
     "name": "stdout",
     "output_type": "stream",
     "text": [
      "172254\n"
     ]
    }
   ],
   "source": [
    "print(len(segment_area))"
   ]
  },
  {
   "cell_type": "code",
   "execution_count": null,
   "metadata": {},
   "outputs": [],
   "source": []
  }
 ],
 "metadata": {
  "kernelspec": {
   "display_name": "Python 3",
   "language": "python",
   "name": "python3"
  },
  "language_info": {
   "codemirror_mode": {
    "name": "ipython",
    "version": 3
   },
   "file_extension": ".py",
   "mimetype": "text/x-python",
   "name": "python",
   "nbconvert_exporter": "python",
   "pygments_lexer": "ipython3",
   "version": "3.7.1"
  }
 },
 "nbformat": 4,
 "nbformat_minor": 2
}
