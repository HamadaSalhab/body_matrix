{
 "cells": [
  {
   "cell_type": "code",
   "execution_count": null,
   "metadata": {},
   "outputs": [],
   "source": [
    "### Load Video\n",
    "from body_matrix import load, score\n",
    "video, frames_counts, fps, sample_frame = load.video(\n",
    "    \"/Users/troydo42/Desktop/Raw_Vids/VID_20230111_162031~2.mp4\",\n",
    "    rotate_angle=-90, \n",
    "    frame_position=1\n",
    ")\n",
    "print(frames_counts)\n",
    "sample_frame\n",
    "\n",
    "### Load Keypoints Model\n",
    "segment_model, segment_transform = load.segment_model(\"cpu\")\n",
    "keypoints_model, keypoints_transform = load.keypoints_model(\"cpu\")\n",
    "\n",
    "### Iterate Over Video Frame for SHA Score\n",
    "SHA_frames, SHA_scores = score.video_SHA_score(\n",
    "    vid=video,\n",
    "    device=\"cpu\", \n",
    "    font_dir=\"/Users/troydo42/Desktop/Body_Matrixes/Roboto-Bold.ttf\",\n",
    "    segment_model=segment_model,\n",
    "    segment_transform=segment_transform, \n",
    "    keypoints_model=keypoints_model, \n",
    "    keypoints_transform=keypoints_transform\n",
    ")\n",
    "\n",
    "index = int(len(SHA_scores)/2)\n",
    "print(SHA_scores[index])\n",
    "SHA_frames[index]"
   ]
  }
 ],
 "metadata": {
  "kernelspec": {
   "display_name": "Python 3",
   "language": "python",
   "name": "python3"
  },
  "language_info": {
   "codemirror_mode": {
    "name": "ipython",
    "version": 3
   },
   "file_extension": ".py",
   "mimetype": "text/x-python",
   "name": "python",
   "nbconvert_exporter": "python",
   "pygments_lexer": "ipython3",
   "version": "3.7.1"
  }
 },
 "nbformat": 4,
 "nbformat_minor": 2
}
