{
 "cells": [
  {
   "cell_type": "code",
   "execution_count": 2,
   "metadata": {},
   "outputs": [
    {
     "name": "stdout",
     "output_type": "stream",
     "text": [
      "Found  6  person in the frame\n",
      "Distances:  [423.6071472167969, 326.2012252807617, 19.03369140625, 127.439697265625, 68.22633361816406, 63.51310729980469]\n",
      "Areas:  [137201.93294489756, 147093.1753197452, 244059.27120015025, 13352.044554054737, 84258.8374577649, 34302.10220799409]\n",
      "FOCUSES:  [323.88956099147055, 450.9277216636509, 12822.48755593514, 104.77147106073875, 1234.9899663277884, 540.0791059721869]\n",
      "Select keypoint index 2\n",
      "Found  5  person in the frame\n",
      "Distances:  [421.8880310058594, 331.4436149597168, 21.326995849609375, 129.9559326171875, 61.942962646484375]\n",
      "Areas:  [144422.88675733656, 149908.40079457266, 247064.32447391003, 13439.22203451395, 93515.03520731255]\n",
      "FOCUSES:  [342.3251577272898, 452.28930058825335, 11584.581636163035, 103.41368619239572, 1509.695875236282]\n",
      "Select keypoint index 2\n",
      "[432.56414794921875, 660.84375, 693.5032348632812, 1596.155029296875]\n",
      "[432.2122802734375, 660.2041015625, 698.4417114257812, 1588.2169189453125]\n"
     ]
    },
    {
     "data": {
      "text/plain": [
       "4.863510227270689"
      ]
     },
     "execution_count": 2,
     "metadata": {},
     "output_type": "execute_result"
    }
   ],
   "source": [
    "from body_matrix import load\n",
    "from body_matrix import infer\n",
    "from body_matrix import measure\n",
    "from torchvision.transforms.functional import to_pil_image\n",
    "\n",
    "sample_frame_index = 10\n",
    "video, frame_counts, fps, sample_frame = load.video(\n",
    "    \"/Users/troydo42/Desktop/Body_Matrixes/samples/sample01.mp4\", \n",
    "    -90, \n",
    "    sample_frame_index\n",
    ")\n",
    "\n",
    "keypoints_model, keypoints_transform = load.keypoints_model(\"cpu\")\n",
    "box, keypoints = infer.detect_main_target(\n",
    "    frame=sample_frame, \n",
    "    device=\"cpu\",\n",
    "    min_accuracy=0.8,\n",
    "    kp_model=keypoints_model, \n",
    "    kp_transforms=keypoints_transform \n",
    ")\n",
    "\n",
    "next_frame = to_pil_image(video[sample_frame_index+1])\n",
    "next_frame = next_frame.rotate(-90, expand=True)\n",
    "next_box, keypoints = infer.detect_main_target(\n",
    "    frame=next_frame, \n",
    "    device=\"cpu\",\n",
    "    min_accuracy=0.8,\n",
    "    kp_model=keypoints_model, \n",
    "    kp_transforms=keypoints_transform \n",
    ")\n",
    "\n",
    "moved_distance = measure.two_boxes_distance(box, next_box)\n",
    "moved_distance"
   ]
  }
 ],
 "metadata": {
  "kernelspec": {
   "display_name": "Python 3",
   "language": "python",
   "name": "python3"
  },
  "language_info": {
   "codemirror_mode": {
    "name": "ipython",
    "version": 3
   },
   "file_extension": ".py",
   "mimetype": "text/x-python",
   "name": "python",
   "nbconvert_exporter": "python",
   "pygments_lexer": "ipython3",
   "version": "3.7.1"
  }
 },
 "nbformat": 4,
 "nbformat_minor": 2
}
